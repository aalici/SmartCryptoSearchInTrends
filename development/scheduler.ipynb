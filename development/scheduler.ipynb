{
 "cells": [
  {
   "cell_type": "code",
   "execution_count": 3,
   "id": "7b6544ae",
   "metadata": {},
   "outputs": [],
   "source": [
    "# export\n",
    "import schedule\n",
    "import time\n",
    "import random, string\n",
    "import sys\n",
    "sys.path.append('./src/')\n",
    "import project_constants \n",
    "import GeneralFunctions as gf\n",
    "\n",
    "\n",
    "import logging\n",
    "\n",
    "# Gets or creates a logger\n",
    "logger = logging.getLogger(__name__)  \n",
    "\n",
    "# set log level\n",
    "logger.setLevel(logging.INFO)\n",
    "\n",
    "# define file handler and set formatter\n",
    "file_handler = logging.FileHandler('logfile.log')\n",
    "formatter    = logging.Formatter('%(asctime)s : %(levelname)s : %(name)s : %(message)s')\n",
    "file_handler.setFormatter(formatter)\n",
    "\n",
    "# add file handler to logger\n",
    "logger.addHandler(file_handler)\n",
    "\n"
   ]
  },
  {
   "cell_type": "code",
   "execution_count": 1,
   "id": "2668c506",
   "metadata": {},
   "outputs": [
    {
     "ename": "NameError",
     "evalue": "name 'schedule' is not defined",
     "output_type": "error",
     "traceback": [
      "\u001b[0;31m---------------------------------------------------------------------------\u001b[0m",
      "\u001b[0;31mNameError\u001b[0m                                 Traceback (most recent call last)",
      "\u001b[0;32m<ipython-input-1-2f97562f91cb>\u001b[0m in \u001b[0;36m<module>\u001b[0;34m\u001b[0m\n\u001b[1;32m      9\u001b[0m                                v_to_address = mail_to )\n\u001b[1;32m     10\u001b[0m \u001b[0;34m\u001b[0m\u001b[0m\n\u001b[0;32m---> 11\u001b[0;31m \u001b[0mschedule\u001b[0m\u001b[0;34m.\u001b[0m\u001b[0mevery\u001b[0m\u001b[0;34m(\u001b[0m\u001b[0;36m30\u001b[0m\u001b[0;34m)\u001b[0m\u001b[0;34m.\u001b[0m\u001b[0mseconds\u001b[0m\u001b[0;34m.\u001b[0m\u001b[0mdo\u001b[0m\u001b[0;34m(\u001b[0m\u001b[0mjob\u001b[0m\u001b[0;34m)\u001b[0m\u001b[0;34m\u001b[0m\u001b[0;34m\u001b[0m\u001b[0m\n\u001b[0m\u001b[1;32m     12\u001b[0m \u001b[0;31m#schedule.every(240).minutes.do(job)\u001b[0m\u001b[0;34m\u001b[0m\u001b[0;34m\u001b[0m\u001b[0;34m\u001b[0m\u001b[0m\n\u001b[1;32m     13\u001b[0m \u001b[0;31m#schedule.every(240).minutes.do(job_load_cmc_data)\u001b[0m\u001b[0;34m\u001b[0m\u001b[0;34m\u001b[0m\u001b[0;34m\u001b[0m\u001b[0m\n",
      "\u001b[0;31mNameError\u001b[0m: name 'schedule' is not defined"
     ]
    }
   ],
   "source": [
    "# export\n",
    "\n",
    "def job():\n",
    "    key = ''.join(random.choices(string.ascii_letters + string.digits, k=8))\n",
    "    logger.info(\"Scheduler kick offs new job! key is {key}\".format(key=key))\n",
    "    mail_to = ','.join(project_constants.mail_to_list)\n",
    "    gf.send_mails_with_matches(v_score_match = 75, \n",
    "                               v_mail_subject = \"WEB Trend Analysis - SmartCryptoAnalysis with key:{key}\".format(key=key),\n",
    "                               v_to_address = mail_to )\n",
    "\n",
    "schedule.every(30).seconds.do(job)\n",
    "#schedule.every(240).minutes.do(job)\n",
    "#schedule.every(240).minutes.do(job_load_cmc_data)\n",
    "#schedule.every().hour.do(job)\n",
    "#schedule.every().day.at(\"10:30\").do(job)\n",
    "#schedule.every(5).to(10).minutes.do(job)\n",
    "#schedule.every().monday.do(job)\n",
    "#schedule.every().wednesday.at(\"13:15\").do(job)\n",
    "#schedule.every().minute.at(\":17\").do(job)\n",
    "\n",
    "while True:\n",
    "    #logger.info(\"Scheduler works!\")\n",
    "    schedule.run_pending()\n",
    "    time.sleep(10)"
   ]
  },
  {
   "cell_type": "code",
   "execution_count": 2,
   "id": "92b300e1",
   "metadata": {},
   "outputs": [],
   "source": [
    "from exporter import export\n",
    "export(\"scheduler.ipynb\",\"../src/scheduler.py\")"
   ]
  }
 ],
 "metadata": {
  "kernelspec": {
   "display_name": "Python 3",
   "language": "python",
   "name": "python3"
  },
  "language_info": {
   "codemirror_mode": {
    "name": "ipython",
    "version": 3
   },
   "file_extension": ".py",
   "mimetype": "text/x-python",
   "name": "python",
   "nbconvert_exporter": "python",
   "pygments_lexer": "ipython3",
   "version": "3.6.9"
  }
 },
 "nbformat": 4,
 "nbformat_minor": 5
}
