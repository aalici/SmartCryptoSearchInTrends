{
 "cells": [
  {
   "cell_type": "code",
   "execution_count": null,
   "id": "2e4f7a31",
   "metadata": {},
   "outputs": [],
   "source": [
    "# export\n",
    "import schedule\n",
    "import time\n",
    "import GeneralFunctions gf\n",
    "\n",
    "def job():\n",
    "    gf.send_mails_with_matches()\n",
    "    print(\"I'm working...\")\n",
    "\n",
    "#schedule.every(10).seconds.do(job)\n",
    "#schedule.every(10).minutes.do(job)\n",
    "schedule.every().hour.do(job)\n",
    "#schedule.every().day.at(\"10:30\").do(job)\n",
    "#schedule.every(5).to(10).minutes.do(job)\n",
    "#schedule.every().monday.do(job)\n",
    "#schedule.every().wednesday.at(\"13:15\").do(job)\n",
    "#schedule.every().minute.at(\":17\").do(job)\n",
    "\n",
    "while True:\n",
    "    schedule.run_pending()\n",
    "    time.sleep(10)"
   ]
  },
  {
   "cell_type": "code",
   "execution_count": null,
   "id": "a4eb9619",
   "metadata": {},
   "outputs": [],
   "source": [
    "from exporter import export\n",
    "export(\"scheduler.ipynb\",\"scheduler.py\")"
   ]
  }
 ],
 "metadata": {
  "kernelspec": {
   "display_name": "Python 3",
   "language": "python",
   "name": "python3"
  },
  "language_info": {
   "codemirror_mode": {
    "name": "ipython",
    "version": 3
   },
   "file_extension": ".py",
   "mimetype": "text/x-python",
   "name": "python",
   "nbconvert_exporter": "python",
   "pygments_lexer": "ipython3",
   "version": "3.6.9"
  }
 },
 "nbformat": 4,
 "nbformat_minor": 5
}
