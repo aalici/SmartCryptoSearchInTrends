{
 "cells": [
  {
   "cell_type": "code",
   "execution_count": 1,
   "id": "7b6544ae",
   "metadata": {},
   "outputs": [
    {
     "name": "stderr",
     "output_type": "stream",
     "text": [
      "/root/projects/binance_first/venv/lib/python3.6/site-packages/fuzzywuzzy/fuzz.py:11: UserWarning: Using slow pure-python SequenceMatcher. Install python-Levenshtein to remove this warning\n",
      "  warnings.warn('Using slow pure-python SequenceMatcher. Install python-Levenshtein to remove this warning')\n"
     ]
    }
   ],
   "source": [
    "# export\n",
    "import schedule\n",
    "import time\n",
    "import GeneralFunctions as gf\n",
    "import Financial_Indicators as fi\n",
    "import random, string\n",
    "\n",
    "import logging\n",
    "\n",
    "# Gets or creates a logger\n",
    "logger = logging.getLogger(__name__)  \n",
    "\n",
    "# set log level\n",
    "logger.setLevel(logging.INFO)\n",
    "\n",
    "# define file handler and set formatter\n",
    "file_handler = logging.FileHandler('logfile.log')\n",
    "formatter    = logging.Formatter('%(asctime)s : %(levelname)s : %(name)s : %(message)s')\n",
    "file_handler.setFormatter(formatter)\n",
    "\n",
    "# add file handler to logger\n",
    "logger.addHandler(file_handler)\n",
    "\n"
   ]
  },
  {
   "cell_type": "code",
   "execution_count": null,
   "id": "2668c506",
   "metadata": {},
   "outputs": [],
   "source": [
    "# export\n",
    "\n",
    "def job():\n",
    "    key = ''.join(random.choices(string.ascii_letters + string.digits, k=8))\n",
    "    logger.info(\"Scheduler kick offs new job! key is {key}\".format(key=key))\n",
    "    gf.send_mails_with_matches(v_score_match = 85, \n",
    "                               v_mail_subject = \"WEB Trend Analysis - SmartCryptoAnalysis with key:{key}\".format(key=key),\n",
    "                               v_to_address = \"ali.alici84@gmail.com;neslihanbilgier@gmail.com\" )\n",
    "\n",
    "\n",
    "def job_load_cmc_data():\n",
    "    list_current = fi.get_coin_market_cap_data()\n",
    "    append_coin_market_cap_data(list_current)\n",
    "    f_send_mail(mail_content=\"Load CMC data is OK\", \n",
    "                mail_subject=\"Load CMC data\")\n",
    "\n",
    "\n",
    "#schedule.every(10).seconds.do(job)\n",
    "schedule.every(120).minutes.do(job)\n",
    "\n",
    "schedule.every(2).minutes.do(job_load_cmc_data)\n",
    "\n",
    "#schedule.every().hour.do(job)\n",
    "#schedule.every().day.at(\"10:30\").do(job)\n",
    "#schedule.every(5).to(10).minutes.do(job)\n",
    "#schedule.every().monday.do(job)\n",
    "#schedule.every().wednesday.at(\"13:15\").do(job)\n",
    "#schedule.every().minute.at(\":17\").do(job)\n",
    "\n",
    "while True:\n",
    "    #logger.info(\"Scheduler works!\")\n",
    "    schedule.run_pending()\n",
    "    time.sleep(10)"
   ]
  },
  {
   "cell_type": "code",
   "execution_count": 3,
   "id": "92b300e1",
   "metadata": {},
   "outputs": [],
   "source": [
    "from exporter import export\n",
    "export(\"scheduler.ipynb\",\"scheduler.py\")"
   ]
  }
 ],
 "metadata": {
  "kernelspec": {
   "display_name": "Python 3",
   "language": "python",
   "name": "python3"
  },
  "language_info": {
   "codemirror_mode": {
    "name": "ipython",
    "version": 3
   },
   "file_extension": ".py",
   "mimetype": "text/x-python",
   "name": "python",
   "nbconvert_exporter": "python",
   "pygments_lexer": "ipython3",
   "version": "3.6.9"
  }
 },
 "nbformat": 4,
 "nbformat_minor": 5
}
