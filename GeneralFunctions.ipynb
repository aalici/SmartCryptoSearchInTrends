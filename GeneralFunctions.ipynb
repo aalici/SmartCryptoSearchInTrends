{
 "cells": [
  {
   "cell_type": "code",
   "execution_count": 6,
   "id": "f3e2fa25",
   "metadata": {},
   "outputs": [
    {
     "data": {
      "text/plain": [
       "True"
      ]
     },
     "execution_count": 6,
     "metadata": {},
     "output_type": "execute_result"
    }
   ],
   "source": [
    "#General imports\n",
    "import pandas as pd\n",
    "import os\n",
    "\n",
    "\n",
    "#email sending\n",
    "import smtplib\n",
    "from email.mime.multipart import MIMEMultipart\n",
    "from email.mime.text import MIMEText\n",
    "\n",
    "#logging\n",
    "import logging\n",
    "# Gets or creates a logger\n",
    "logger = logging.getLogger(__name__)  \n",
    "# set log level\n",
    "logger.setLevel(logging.INFO)\n",
    "# define file handler and set formatter\n",
    "file_handler = logging.FileHandler('logfile.log')\n",
    "formatter    = logging.Formatter('%(asctime)s : %(levelname)s : %(name)s : %(message)s')\n",
    "file_handler.setFormatter(formatter)\n",
    "# add file handler to logger\n",
    "logger.addHandler(file_handler)\n",
    "\n",
    "#Google Trends & Tweeter  \n",
    "from pytrends.request import TrendReq\n",
    "import tweepy\n",
    "\n",
    "#environment variables\n",
    "from dotenv import load_dotenv\n",
    "load_dotenv()"
   ]
  },
  {
   "cell_type": "code",
   "execution_count": null,
   "id": "eafae52a",
   "metadata": {},
   "outputs": [],
   "source": [
    "def f_send_mail(mail_content=None, \n",
    "                mail_to=None,\n",
    "                mail_subject=None):\n",
    "    if mail_to is None:\n",
    "        mail_to = 'ali.alici84@gmail.com'\n",
    "        \n",
    "    if mail_content is None:\n",
    "        mail_content = 'Just try mail sending logic. No specific content is set.'    \n",
    "        \n",
    "    if mail_subject is None:\n",
    "        mail_subject = 'Test Mail from App'    \n",
    "\n",
    "    logger.info('Try to send email to {x}'.format(x=mail_to))\n",
    "    #mail_content = '''Hello,\n",
    "    #This is a simple mail. There is only text, no attachments are there The mail is sent using Python SMTP library.\n",
    "    #Thank You\n",
    "    #'''\n",
    "    \n",
    "    #The mail addresses and password\n",
    "    sender_address = 'cuneytsolmazto@gmail.com'\n",
    "    sender_pass = os.environ.get('GMAIL_API_SECRET')\n",
    "    receiver_address = mail_to\n",
    "    \n",
    "    message = MIMEMultipart()\n",
    "    message['From'] = sender_address\n",
    "    message['To'] = receiver_address\n",
    "    message['Subject'] = mail_subject   #The subject line\n",
    "    #The body and the attachments for the mail\n",
    "    message.attach(MIMEText(mail_content, 'plain'))\n",
    "    try:\n",
    "        #Create SMTP session for sending the mail\n",
    "        session = smtplib.SMTP('smtp.gmail.com', 587) #use gmail with port\n",
    "        session.starttls() #enable security\n",
    "        session.login(sender_address, sender_pass) #login with mail_id and password\n",
    "        text = message.as_string()\n",
    "        session.sendmail(sender_address, receiver_address, text)\n",
    "        session.quit()\n",
    "        logger.info('Mail Sent')\n",
    "    except:\n",
    "        logger.error('Sent mail has failed !!')\n",
    "        session.quit()"
   ]
  },
  {
   "cell_type": "code",
   "execution_count": 23,
   "id": "2fef1480",
   "metadata": {},
   "outputs": [],
   "source": [
    "def get_tweet_trends_by_loc(v_api, v_loc):\n",
    "    if v_loc == \"TR\":\n",
    "        woeid = 23424969\n",
    "    elif v_loc == \"US\":\n",
    "        woeid = 23424977    \n",
    "\n",
    "    # fetching the trends\n",
    "    trends = v_api.trends_place(id = woeid)\n",
    "    list_tmp = []\n",
    "    for value in trends:\n",
    "        for trend in value['trends']:\n",
    "            list_tmp.append(trend['name'])  \n",
    "            #print(trend['name'])\n",
    "\n",
    "    return list_tmp\n",
    "\n",
    "\n",
    "def tweet_analyze():\n",
    "    # OAuth process, using the keys and tokens\n",
    "    consumer_key = os.environ.get('TWEET_CONSUMER_KEY')\n",
    "    consumer_secret = os.environ.get('TWEET_CONSUMER_SECRET')\n",
    "    access_token = os.environ.get('TWEET_ACCESS_TOKEN')\n",
    "    access_token_secret = os.environ.get('TWEET_ACCESS_TOKEN_SECRET')\n",
    "    logger.info('Try to connect tweeter api')\n",
    "\n",
    "    try:        \n",
    "        auth = tweepy.OAuthHandler(consumer_key, consumer_secret)\n",
    "        auth.set_access_token(access_token, access_token_secret)\n",
    "        api = tweepy.API(auth)\n",
    "        logger.info('Successfully connected to tweeter api')\n",
    "    except:\n",
    "        logger.error('tweeter connection has failed !!')\n",
    "\n",
    "    tweet_dict = {}\n",
    "    tweet_dict.update({\"TR TREND TOPICS\": get_tweet_trends_by_loc(api, \"TR\")}) \n",
    "    tweet_dict.update({\"US TREND TOPICS\": get_tweet_trends_by_loc(api, \"US\")}) \n",
    "    return tweet_dict"
   ]
  },
  {
   "cell_type": "code",
   "execution_count": 7,
   "id": "49d83c20",
   "metadata": {},
   "outputs": [],
   "source": [
    "if __name__ == \"__main__\":\n",
    "    v_dict = tweet_analyze()\n",
    "    mail_body = ''\n",
    "    for key in v_dict:\n",
    "        mail_body = mail_body + 'For {country} trend topics: '.format(country=key) + '\\n'  \n",
    "        mail_body = mail_body + '\\n'.join(v_dict.get(key)) + \"\\n############## \\n\\n\" \n",
    "    f_send_mail(mail_content = mail_body)"
   ]
  },
  {
   "cell_type": "code",
   "execution_count": 27,
   "id": "64b3d008",
   "metadata": {},
   "outputs": [
    {
     "name": "stdout",
     "output_type": "stream",
     "text": [
      "No cell exported.\n"
     ]
    }
   ],
   "source": [
    "from exporter import export\n",
    "export(\"GeneralFunctions.ipynb\",\"GeneralFunctions.py\")"
   ]
  }
 ],
 "metadata": {
  "kernelspec": {
   "display_name": "Python 3",
   "language": "python",
   "name": "python3"
  },
  "language_info": {
   "codemirror_mode": {
    "name": "ipython",
    "version": 3
   },
   "file_extension": ".py",
   "mimetype": "text/x-python",
   "name": "python",
   "nbconvert_exporter": "python",
   "pygments_lexer": "ipython3",
   "version": "3.6.9"
  }
 },
 "nbformat": 4,
 "nbformat_minor": 5
}
